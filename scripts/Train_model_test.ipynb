{
 "cells": [
  {
   "cell_type": "code",
   "execution_count": 13,
   "metadata": {},
   "outputs": [
    {
     "name": "stdout",
     "output_type": "stream",
     "text": [
      "The autoreload extension is already loaded. To reload it, use:\n",
      "  %reload_ext autoreload\n"
     ]
    }
   ],
   "source": [
    "# Useful starting lines\n",
    "%matplotlib inline\n",
    "import numpy as np\n",
    "import matplotlib.pyplot as plt\n",
    "from Hyperparameter_optimization import *\n",
    "%load_ext autoreload\n",
    "%autoreload 2"
   ]
  },
  {
   "cell_type": "code",
   "execution_count": 10,
   "metadata": {},
   "outputs": [],
   "source": [
    "from proj1_helpers import *\n",
    "DATA_TRAIN_PATH = '../data/train.csv' # TODO: download train data and supply path here \n",
    "y, tX, ids = load_csv_data(DATA_TRAIN_PATH)\n",
    "feature_names = load_headers(DATA_TRAIN_PATH)\n",
    "\n",
    "# convert y from -1/1 to 0,1\n",
    "y = (y+1)/2"
   ]
  },
  {
   "cell_type": "code",
   "execution_count": 11,
   "metadata": {},
   "outputs": [
    {
     "name": "stdout",
     "output_type": "stream",
     "text": [
      "[0. 0. 0. ... 1. 0. 0.]\n",
      "[0. 0. 0. ... 0. 0. 0.]\n",
      "[0. 1. 1. ... 0. 1. 1.]\n",
      "[0. 0. 0. ... 0. 0. 0.]\n",
      "[1. 0. 1. ... 1. 1. 0.]\n",
      "[0. 0. 0. ... 0. 0. 0.]\n"
     ]
    }
   ],
   "source": [
    "from preprocess_data import *\n",
    "\n",
    "data_pro  = data_preprocess_train(tX,y,outlier_method = 'IQR',n_out = 3)\n",
    "\n",
    "for i in range(6):\n",
    "    print(data_pro[i][1])"
   ]
  },
  {
   "cell_type": "code",
   "execution_count": 49,
   "metadata": {},
   "outputs": [],
   "source": [
    "from Hyperparameter_optimization import *"
   ]
  },
  {
   "cell_type": "code",
   "execution_count": 64,
   "metadata": {},
   "outputs": [
    {
     "name": "stdout",
     "output_type": "stream",
     "text": [
      "┌──────────────────────────────────────┐\n",
      "│               Group: 0               │\n",
      "└──────────────────────────────────────┘\n",
      "────────────────────────────────────────\n",
      "lambda : 0,  gamma: 0.0001 \n",
      " \n",
      " Model ridge_regression \n",
      " Loss: 0.13134087391240726 \n",
      " Accuracy: 0.6929717569252453\n",
      "════════════════════════════════════════\n",
      "*The optimal hyperparameters*:\n",
      " Model: ridge_regression \n",
      " Optimal accuracy: 0.6929717569252453 \n",
      " Optimal lambda_: 0 \n",
      " Optimal gamma: 0.0001 \n",
      " \n",
      "┌──────────────────────────────────────┐\n",
      "│               Group: 1               │\n",
      "└──────────────────────────────────────┘\n",
      "────────────────────────────────────────\n",
      "lambda : 0,  gamma: 0.0001 \n",
      " \n",
      " Model ridge_regression \n",
      " Loss: 0.026579363200754248 \n",
      " Accuracy: 0.9403139356814703\n",
      "════════════════════════════════════════\n",
      "*The optimal hyperparameters*:\n",
      " Model: ridge_regression \n",
      " Optimal accuracy: 0.9403139356814703 \n",
      " Optimal lambda_: 0 \n",
      " Optimal gamma: 0.0001 \n",
      " \n",
      "┌──────────────────────────────────────┐\n",
      "│               Group: 2               │\n",
      "└──────────────────────────────────────┘\n",
      "────────────────────────────────────────\n",
      "lambda : 0,  gamma: 0.0001 \n",
      " \n",
      " Model ridge_regression \n",
      " Loss: 0.1727353058676719 \n",
      " Accuracy: 0.6146470420120035\n",
      "════════════════════════════════════════\n",
      "*The optimal hyperparameters*:\n",
      " Model: ridge_regression \n",
      " Optimal accuracy: 0.6146470420120035 \n",
      " Optimal lambda_: 0 \n",
      " Optimal gamma: 0.0001 \n",
      " \n",
      "┌──────────────────────────────────────┐\n",
      "│               Group: 3               │\n",
      "└──────────────────────────────────────┘\n",
      "────────────────────────────────────────\n",
      "lambda : 0,  gamma: 0.0001 \n",
      " \n",
      " Model ridge_regression \n",
      " Loss: 0.040550807001849036 \n",
      " Accuracy: 0.9079365079365078\n",
      "════════════════════════════════════════\n",
      "*The optimal hyperparameters*:\n",
      " Model: ridge_regression \n",
      " Optimal accuracy: 0.9079365079365078 \n",
      " Optimal lambda_: 0 \n",
      " Optimal gamma: 0.0001 \n",
      " \n",
      "┌──────────────────────────────────────┐\n",
      "│               Group: 4               │\n",
      "└──────────────────────────────────────┘\n",
      "────────────────────────────────────────\n",
      "lambda : 0,  gamma: 0.0001 \n",
      " \n",
      " Model ridge_regression \n",
      " Loss: 0.20316163906089119 \n",
      " Accuracy: 0.5456160441625558\n",
      "════════════════════════════════════════\n",
      "*The optimal hyperparameters*:\n",
      " Model: ridge_regression \n",
      " Optimal accuracy: 0.5456160441625558 \n",
      " Optimal lambda_: 0 \n",
      " Optimal gamma: 0.0001 \n",
      " \n",
      "┌──────────────────────────────────────┐\n",
      "│               Group: 5               │\n",
      "└──────────────────────────────────────┘\n",
      "────────────────────────────────────────\n",
      "lambda : 0,  gamma: 0.0001 \n",
      " \n",
      " Model ridge_regression \n",
      " Loss: 0.04901779472360017 \n",
      " Accuracy: 0.8839205058717254\n",
      "════════════════════════════════════════\n",
      "*The optimal hyperparameters*:\n",
      " Model: ridge_regression \n",
      " Optimal accuracy: 0.8839205058717254 \n",
      " Optimal lambda_: 0 \n",
      " Optimal gamma: 0.0001 \n",
      " \n",
      "\n",
      " * Overall Accuracy = 0.6666\n"
     ]
    }
   ],
   "source": [
    "lambda_ = [0]\n",
    "gamma_ = [1e-4]\n",
    "accuracy_ = []\n",
    "group_size_ = []\n",
    "for idx_data,data in enumerate(data_pro):\n",
    "    print('┌'+'─' * 38+'┐')\n",
    "    print('│               Group: %i               │'%idx_data)\n",
    "    print('└'+'─' * 38+'┘')\n",
    "    tx = data[0]\n",
    "    y = data[1]\n",
    "    initial_w_ = np.ones(tx.shape[1])\n",
    "    optimal_accuracy, optimal_lambda_, optimal_gamma = Hyperparameter_optimization( y, tx,k_fold=4, \n",
    "                                                                                   lambdas=lambda_ , \n",
    "                                                                                   gammas = gamma_, \n",
    "                                                                                   initial_w = initial_w_, \n",
    "                                                                                   max_iters = 1000, \n",
    "                                                                                   model = 'ridge_regression')\n",
    "    accuracy_.append(optimal_accuracy)\n",
    "    group_size_.append(len(data[2]))\n",
    "\n",
    "accuracy_all = np.dot(accuracy_,group_size_)/np.sum(group_size_)\n",
    "print('\\n * Overall Accuracy = %.4f'%accuracy_all)"
   ]
  },
  {
   "cell_type": "code",
   "execution_count": 39,
   "metadata": {},
   "outputs": [
    {
     "name": "stdout",
     "output_type": "stream",
     "text": [
      "Overall Accuracy = 0.6666\n"
     ]
    }
   ],
   "source": [
    "accuracy_all = np.dot(accuracy_,group_size_)/np.sum(group_size_)\n",
    "print('Overall Accuracy = %.4f'%accuracy_all)"
   ]
  },
  {
   "cell_type": "code",
   "execution_count": 27,
   "metadata": {},
   "outputs": [
    {
     "name": "stdout",
     "output_type": "stream",
     "text": [
      " Model ridge_regression \n",
      " Loss: 0.026687801163996223 \n",
      " Accuracy: 0.9403139356814703\n"
     ]
    },
    {
     "data": {
      "text/plain": [
       "(0.026687801163996223, 0.9403139356814703)"
      ]
     },
     "execution_count": 27,
     "metadata": {},
     "output_type": "execute_result"
    }
   ],
   "source": [
    "cross_validation( y= data_pro[1][1], tx = data_pro[1][0],k_fold=4, lambda_ = 0.1, gamma = 0.7, initial_w =1, max_iters = 100, model =  'ridge_regression')"
   ]
  }
 ],
 "metadata": {
  "kernelspec": {
   "display_name": "Python 3",
   "language": "python",
   "name": "python3"
  },
  "language_info": {
   "codemirror_mode": {
    "name": "ipython",
    "version": 3
   },
   "file_extension": ".py",
   "mimetype": "text/x-python",
   "name": "python",
   "nbconvert_exporter": "python",
   "pygments_lexer": "ipython3",
   "version": "3.8.5"
  }
 },
 "nbformat": 4,
 "nbformat_minor": 4
}
