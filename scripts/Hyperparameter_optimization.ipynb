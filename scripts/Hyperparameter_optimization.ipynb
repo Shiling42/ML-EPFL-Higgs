{
 "cells": [
  {
   "cell_type": "code",
   "execution_count": 35,
   "metadata": {},
   "outputs": [
    {
     "name": "stdout",
     "output_type": "stream",
     "text": [
      "The autoreload extension is already loaded. To reload it, use:\n",
      "  %reload_ext autoreload\n"
     ]
    }
   ],
   "source": [
    "%load_ext autoreload\n",
    "%autoreload 2\n",
    "%reload_ext autoreload\n",
    "import numpy as np\n",
    "from Implementations import *\n",
    "from Implementations_helpers import *\n",
    "from proj1_helpers import *\n",
    "from Cross_validation import *"
   ]
  },
  {
   "cell_type": "code",
   "execution_count": 41,
   "metadata": {},
   "outputs": [],
   "source": [
    "def Hyperparameter_optimization(y, tx, k_fold, lambdas , gammas, initial_w =1, max_iters = 100, model = 'least_squares'):\n",
    "    \"\"\"optimize the hyperameters for correspongding model/algorithm\n",
    "    lambdas: the range of lambda_\n",
    "    gammas: the range of gamma\n",
    "    \n",
    "    \"\"\"\n",
    "    accuracies = np.zeros((len(lambdas), len(gammas)))\n",
    "    for index_lambda_, lambda_ in enumerate(lambdas):\n",
    "        for index_gamma, gamma in enumerate(gammas):\n",
    "            _, accuracy = cross_validation(y, tx, k_fold, lambda_, gamma, initial_w.copy(), max_iters, model)\n",
    "            accuracies[index_lambda_,index_gamma] = accuracy\n",
    "    optimal_index = np.unravel_index(accuracies.argmax(), accuracies.shape)\n",
    "    optimal_lambda_, optimal_gamma = lambdas[optimal_index[0]], gammas[optimal_index[1]]\n",
    "    optimal_accuracy = accuracies.max()\n",
    "    \n",
    "    print(\"Model: {0} \\n Optimal accuracy: {1} \\n Optimal lambda_: {2} \\n Optimal gamma: {3} \\n \".format(\n",
    "          model, optimal_accuracy, optimal_lambda_, optimal_gamma))\n",
    "    \n",
    "    return optimal_accuracy, optimal_lambda_, optimal_gamma\n",
    "    \n",
    "            \n",
    "    "
   ]
  },
  {
   "cell_type": "code",
   "execution_count": 30,
   "metadata": {},
   "outputs": [],
   "source": [
    "y = np.random.rand(100000).reshape((100000,1))\n",
    "y[np.where(y <= 0.5)] = 0\n",
    "y[np.where(y > 0.5)] = 1\n",
    "tx = np.c_[y-1,y+1]\n",
    "weight = np.zeros((tx.shape[1], 1)) + 0.5\n",
    "weight = weight*0.5\n",
    "lambdas = [0]#np.linspace(0,1,5)\n",
    "gammas = np.logspace(-2,-1,5) # np.logspace\n",
    "max_iters = 100\n",
    "k_fold = 5\n",
    "gamma = 0.1\n",
    "seed = 2"
   ]
  },
  {
   "cell_type": "code",
   "execution_count": 43,
   "metadata": {},
   "outputs": [
    {
     "data": {
      "text/plain": [
       "array([[0.25],\n",
       "       [0.25]])"
      ]
     },
     "execution_count": 43,
     "metadata": {},
     "output_type": "execute_result"
    }
   ],
   "source": [
    "weight"
   ]
  },
  {
   "cell_type": "code",
   "execution_count": 44,
   "metadata": {},
   "outputs": [
    {
     "name": "stdout",
     "output_type": "stream",
     "text": [
      " Model least_squares_GD \n",
      " Loss: 0.04875314534003825 \n",
      " Accuracy: 1.0\n",
      " Model least_squares_GD \n",
      " Loss: 0.03369153002602601 \n",
      " Accuracy: 1.0\n",
      " Model least_squares_GD \n",
      " Loss: 0.0191735022054157 \n",
      " Accuracy: 1.0\n",
      " Model least_squares_GD \n",
      " Loss: 0.010143044530900888 \n",
      " Accuracy: 1.0\n",
      " Model least_squares_GD \n",
      " Loss: 0.0064679929874918605 \n",
      " Accuracy: 1.0\n",
      "Model: least_squares_GD \n",
      " Optimal accuracy: 1.0 \n",
      " Optimal lambda_: 0 \n",
      " Optimal gamma: 0.01 \n",
      " \n"
     ]
    },
    {
     "data": {
      "text/plain": [
       "(1.0, 0, 0.01)"
      ]
     },
     "execution_count": 44,
     "metadata": {},
     "output_type": "execute_result"
    }
   ],
   "source": [
    "Hyperparameter_optimization(y, tx, k_fold, lambdas , gammas, initial_w = weight, max_iters = 10, model = 'least_squares_GD')"
   ]
  },
  {
   "cell_type": "code",
   "execution_count": 45,
   "metadata": {},
   "outputs": [
    {
     "data": {
      "text/plain": [
       "array([[0.25],\n",
       "       [0.25]])"
      ]
     },
     "execution_count": 45,
     "metadata": {},
     "output_type": "execute_result"
    }
   ],
   "source": [
    "weight"
   ]
  },
  {
   "cell_type": "code",
   "execution_count": 46,
   "metadata": {},
   "outputs": [
    {
     "data": {
      "text/plain": [
       "(0.00044374872685001946, array([[0.44643957],\n",
       "        [0.49271194]]))"
      ]
     },
     "execution_count": 46,
     "metadata": {},
     "output_type": "execute_result"
    }
   ],
   "source": [
    "least_squares_GD(y, tx, weight, 10, 0.5)"
   ]
  },
  {
   "cell_type": "code",
   "execution_count": 47,
   "metadata": {},
   "outputs": [
    {
     "data": {
      "text/plain": [
       "array([[0.25],\n",
       "       [0.25]])"
      ]
     },
     "execution_count": 47,
     "metadata": {},
     "output_type": "execute_result"
    }
   ],
   "source": [
    "weight"
   ]
  },
  {
   "cell_type": "code",
   "execution_count": 48,
   "metadata": {},
   "outputs": [
    {
     "name": "stdout",
     "output_type": "stream",
     "text": [
      " Model least_squares_GD \n",
      " Loss: 0.08124999914687492 \n",
      " Accuracy: 1.0\n"
     ]
    },
    {
     "data": {
      "text/plain": [
       "(0.08124999914687492, 1.0)"
      ]
     },
     "execution_count": 48,
     "metadata": {},
     "output_type": "execute_result"
    }
   ],
   "source": [
    "cross_validation(y, tx,5, 0, 1e-10, weight, 20, 'least_squares_GD')"
   ]
  },
  {
   "cell_type": "code",
   "execution_count": 49,
   "metadata": {},
   "outputs": [
    {
     "data": {
      "text/plain": [
       "array([[0.25],\n",
       "       [0.25]])"
      ]
     },
     "execution_count": 49,
     "metadata": {},
     "output_type": "execute_result"
    }
   ],
   "source": [
    "weight"
   ]
  },
  {
   "cell_type": "code",
   "execution_count": null,
   "metadata": {},
   "outputs": [],
   "source": []
  }
 ],
 "metadata": {
  "kernelspec": {
   "display_name": "Python 3",
   "language": "python",
   "name": "python3"
  },
  "language_info": {
   "codemirror_mode": {
    "name": "ipython",
    "version": 3
   },
   "file_extension": ".py",
   "mimetype": "text/x-python",
   "name": "python",
   "nbconvert_exporter": "python",
   "pygments_lexer": "ipython3",
   "version": "3.7.4"
  }
 },
 "nbformat": 4,
 "nbformat_minor": 2
}
