{
 "cells": [
  {
   "cell_type": "code",
   "execution_count": null,
   "metadata": {},
   "outputs": [],
   "source": [
    "%load_ext autoreload\n",
    "%autoreload 2\n",
    "%reload_ext autoreload\n",
    "import numpy as np\n",
    "from Implementations import *\n",
    "from Implementations_helpers import *\n",
    "from proj1_helpers import *\n",
    "from Cross_validation import *"
   ]
  },
  {
   "cell_type": "code",
   "execution_count": null,
   "metadata": {},
   "outputs": [],
   "source": [
    "def Hyperparameter_optimization(y, tx, k_fold, lambdas , gammas, initial_w =1, max_iters = 100, model = 'least_squares'):\n",
    "    \"\"\"optimize the hyperameters for correspongding model/algorithm\n",
    "    lambdas: the range of lambda_\n",
    "    gammas: the range of gamma\n",
    "    \n",
    "    \"\"\"\n",
    "    accuracies = np.zeros((len(lambdas), len(gammas)))\n",
    "    for index_lambda_, lambda_ in enumerate(lambdas):\n",
    "        for index_gamma, gamma in enumerate(gammas):\n",
    "            _, accuracy = cross_validation(y, tx, k_fold, lambda_, gamma, initial_w, max_iters, model)\n",
    "            accuracies[index_lambda_,index_gamma] = accuracy\n",
    "    optimal_index = np.unravel_index(accuracies.argmax(), accuracies.shape)\n",
    "    optimal_lambda_, optimal_gamma = lambdas[optimal_index[0]], gammas[optimal_index[1]]\n",
    "    optimal_accuracy = accuracies.max()\n",
    "    \n",
    "    print(\"Model: {0} \\n Optimal accuracy: {1} \\n Optimal lambda_: {2} \\n Optimal gamma: {3} \\n \".format(\n",
    "          model, optimal_accuracy, optimal_lambda_, optimal_gamma))\n",
    "    \n",
    "    return optimal_accuracy, optimal_lambda_, optimal_gamma\n",
    "    \n",
    "            \n",
    "    "
   ]
  }
 ],
 "metadata": {
  "kernelspec": {
   "display_name": "Python 3",
   "language": "python",
   "name": "python3"
  },
  "language_info": {
   "codemirror_mode": {
    "name": "ipython",
    "version": 3
   },
   "file_extension": ".py",
   "mimetype": "text/x-python",
   "name": "python",
   "nbconvert_exporter": "python",
   "pygments_lexer": "ipython3",
   "version": "3.7.4"
  }
 },
 "nbformat": 4,
 "nbformat_minor": 2
}
