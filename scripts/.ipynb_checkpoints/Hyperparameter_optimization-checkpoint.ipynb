{
 "cells": [
  {
   "cell_type": "code",
   "execution_count": 86,
   "metadata": {},
   "outputs": [
    {
     "name": "stdout",
     "output_type": "stream",
     "text": [
      "The autoreload extension is already loaded. To reload it, use:\n",
      "  %reload_ext autoreload\n"
     ]
    }
   ],
   "source": [
    "%load_ext autoreload\n",
    "%autoreload 2\n",
    "%reload_ext autoreload\n",
    "import numpy as np\n",
    "from Implementations import *\n",
    "from Implementations_helpers import *\n",
    "from proj1_helpers import *\n",
    "from Cross_validation import *"
   ]
  },
  {
   "cell_type": "code",
   "execution_count": 77,
   "metadata": {},
   "outputs": [],
   "source": [
    "def Hyperparameter_optimization(y, tx, k_fold, lambdas , gammas, initial_w =1, max_iters = 100, model = 'least_squares'):\n",
    "    \"\"\"optimize the hyperameters for correspongding model/algorithm\"\"\"\n",
    "    accuracies = np.zeros((len(lambdas), len(gammas)))\n",
    "    for index_lambda_, lambda_ in enumerate(lambdas):\n",
    "        for index_gamma, gamma in enumerate(gammas):\n",
    "            _, accuracy = cross_validation(y, tx, k_fold, lambda_, gamma, initial_w, max_iters, model)\n",
    "            accuracies[index_lambda_,index_gamma] = accuracy\n",
    "    optimal_index = np.unravel_index(accuracies.argmin(), accuracies.shape)\n",
    "    optimal_lambda_, optimal_gamma = lambdas[optimal_index[0]], gammas[optimal_index[1]]\n",
    "    optimal_accuracy = accuracies.min()\n",
    "    \n",
    "    print(\"Model: {0} \\n Optimal accuracy: {1} \\n Optimal lambda_: {2} \\n Optimal gamma: {3} \\n \".format(\n",
    "          model, optimal_accuracy, optimal_lambda_, optimal_gamma))\n",
    "    \n",
    "            \n",
    "    "
   ]
  },
  {
   "cell_type": "code",
   "execution_count": 78,
   "metadata": {},
   "outputs": [],
   "source": [
    "lambdas = np.logspace(-7,-3,3)\n",
    "gammas = np.logspace(-7,-3,3)"
   ]
  },
  {
   "cell_type": "code",
   "execution_count": 79,
   "metadata": {},
   "outputs": [
    {
     "name": "stdout",
     "output_type": "stream",
     "text": [
      "0 0\n",
      "1e-07 1e-07\n",
      "0 1\n",
      "1e-07 1e-05\n",
      "0 2\n",
      "1e-07 0.001\n",
      "1 0\n",
      "1e-05 1e-07\n",
      "1 1\n",
      "1e-05 1e-05\n",
      "1 2\n",
      "1e-05 0.001\n",
      "2 0\n",
      "0.001 1e-07\n",
      "2 1\n",
      "0.001 1e-05\n",
      "2 2\n",
      "0.001 0.001\n"
     ]
    }
   ],
   "source": [
    "    for index_lambda_, lambda_ in enumerate(lambdas):\n",
    "        for index_gamma, gamma in enumerate(gammas):\n",
    "            print(index_lambda_,index_gamma)\n",
    "            print(lambda_,gamma)\n"
   ]
  },
  {
   "cell_type": "code",
   "execution_count": null,
   "metadata": {},
   "outputs": [],
   "source": []
  },
  {
   "cell_type": "code",
   "execution_count": 80,
   "metadata": {},
   "outputs": [],
   "source": [
    "a = np.random.rand(5,5)"
   ]
  },
  {
   "cell_type": "code",
   "execution_count": 81,
   "metadata": {},
   "outputs": [
    {
     "data": {
      "text/plain": [
       "array([[0.52914209, 0.13457995, 0.51357812, 0.18443987, 0.78533515],\n",
       "       [0.85397529, 0.49423684, 0.84656149, 0.07964548, 0.50524609],\n",
       "       [0.0652865 , 0.42812233, 0.09653092, 0.12715997, 0.59674531],\n",
       "       [0.226012  , 0.10694568, 0.22030621, 0.34982629, 0.46778748],\n",
       "       [0.20174323, 0.64040673, 0.48306984, 0.50523672, 0.38689265]])"
      ]
     },
     "execution_count": 81,
     "metadata": {},
     "output_type": "execute_result"
    }
   ],
   "source": [
    "a"
   ]
  },
  {
   "cell_type": "code",
   "execution_count": 82,
   "metadata": {},
   "outputs": [],
   "source": [
    "b = np.unravel_index(a.argmin(), a.shape)\n"
   ]
  },
  {
   "cell_type": "code",
   "execution_count": 83,
   "metadata": {},
   "outputs": [],
   "source": [
    "y = np.random.rand(20).reshape((20,1))\n",
    "y[np.where(y <= 0.5)] = 0\n",
    "y[np.where(y > 0.5)] = 1\n",
    "tx = np.c_[y-1,y+1]\n",
    "lambdas = np.logspace(-7,1,10)\n",
    "gammas = np.logspace(0,1,4)\n",
    "weight = np.zeros((tx.shape[1], 1)) + 0.5\n",
    "weight = weight*0.5\n",
    "lambda_ = 0.1\n",
    "max_iters = 100\n",
    "gamma = 0.1\n",
    "seed = 2\n",
    "k_fold = 5"
   ]
  },
  {
   "cell_type": "code",
   "execution_count": 84,
   "metadata": {},
   "outputs": [
    {
     "name": "stdout",
     "output_type": "stream",
     "text": [
      "[[ 0.  2.]\n",
      " [ 0.  2.]\n",
      " [-1.  1.]\n",
      " [ 0.  2.]]\n",
      "[[-1.  1.]\n",
      " [ 0.  2.]\n",
      " [ 0.  2.]\n",
      " [-1.  1.]]\n",
      "[[ 0.  2.]\n",
      " [ 0.  2.]\n",
      " [-1.  1.]\n",
      " [-1.  1.]]\n",
      "[[ 0.  2.]\n",
      " [-1.  1.]\n",
      " [ 0.  2.]\n",
      " [ 0.  2.]]\n",
      "[[-1.  1.]\n",
      " [ 0.  2.]\n",
      " [-1.  1.]\n",
      " [ 0.  2.]]\n",
      "least_squares_GD 9.006777216340695e+56 0.0\n",
      "[[ 0.  2.]\n",
      " [ 0.  2.]\n",
      " [-1.  1.]\n",
      " [ 0.  2.]]\n",
      "[[-1.  1.]\n",
      " [ 0.  2.]\n",
      " [ 0.  2.]\n",
      " [-1.  1.]]\n",
      "[[ 0.  2.]\n",
      " [ 0.  2.]\n",
      " [-1.  1.]\n",
      " [-1.  1.]]\n",
      "[[ 0.  2.]\n",
      " [-1.  1.]\n",
      " [ 0.  2.]\n",
      " [ 0.  2.]]\n",
      "[[-1.  1.]\n",
      " [ 0.  2.]\n",
      " [-1.  1.]\n",
      " [ 0.  2.]]\n",
      "least_squares_GD 4.660793001761605e+144 0.0\n",
      "[[ 0.  2.]\n",
      " [ 0.  2.]\n",
      " [-1.  1.]\n",
      " [ 0.  2.]]\n",
      "[[-1.  1.]\n",
      " [ 0.  2.]\n",
      " [ 0.  2.]\n",
      " [-1.  1.]]\n",
      "[[ 0.  2.]\n",
      " [ 0.  2.]\n",
      " [-1.  1.]\n",
      " [-1.  1.]]\n",
      "[[ 0.  2.]\n",
      " [-1.  1.]\n",
      " [ 0.  2.]\n",
      " [ 0.  2.]]\n",
      "[[-1.  1.]\n",
      " [ 0.  2.]\n",
      " [-1.  1.]\n",
      " [ 0.  2.]]\n",
      "least_squares_GD 3.922868509576244e+219 0.0\n",
      "[[ 0.  2.]\n",
      " [ 0.  2.]\n",
      " [-1.  1.]\n",
      " [ 0.  2.]]\n",
      "[[-1.  1.]\n",
      " [ 0.  2.]\n",
      " [ 0.  2.]\n",
      " [-1.  1.]]\n",
      "[[ 0.  2.]\n",
      " [ 0.  2.]\n",
      " [-1.  1.]\n",
      " [-1.  1.]]\n",
      "[[ 0.  2.]\n",
      " [-1.  1.]\n",
      " [ 0.  2.]\n",
      " [ 0.  2.]]\n",
      "[[-1.  1.]\n",
      " [ 0.  2.]\n",
      " [-1.  1.]\n",
      " [ 0.  2.]]\n",
      "least_squares_GD 6.926883843933646e+289 0.0\n",
      "[[ 0.  2.]\n",
      " [ 0.  2.]\n",
      " [-1.  1.]\n",
      " [ 0.  2.]]\n",
      "[[-1.  1.]\n",
      " [ 0.  2.]\n",
      " [ 0.  2.]\n",
      " [-1.  1.]]\n",
      "[[ 0.  2.]\n",
      " [ 0.  2.]\n",
      " [-1.  1.]\n",
      " [-1.  1.]]\n",
      "[[ 0.  2.]\n",
      " [-1.  1.]\n",
      " [ 0.  2.]\n",
      " [ 0.  2.]]\n",
      "[[-1.  1.]\n",
      " [ 0.  2.]\n",
      " [-1.  1.]\n",
      " [ 0.  2.]]\n",
      "least_squares_GD 9.006777216340695e+56 0.0\n",
      "[[ 0.  2.]\n",
      " [ 0.  2.]\n",
      " [-1.  1.]\n",
      " [ 0.  2.]]\n",
      "[[-1.  1.]\n",
      " [ 0.  2.]\n",
      " [ 0.  2.]\n",
      " [-1.  1.]]\n",
      "[[ 0.  2.]\n",
      " [ 0.  2.]\n",
      " [-1.  1.]\n",
      " [-1.  1.]]\n",
      "[[ 0.  2.]\n",
      " [-1.  1.]\n",
      " [ 0.  2.]\n",
      " [ 0.  2.]]\n",
      "[[-1.  1.]\n",
      " [ 0.  2.]\n",
      " [-1.  1.]\n",
      " [ 0.  2.]]\n",
      "least_squares_GD 4.660793001761605e+144 0.0\n",
      "[[ 0.  2.]\n",
      " [ 0.  2.]\n",
      " [-1.  1.]\n",
      " [ 0.  2.]]\n",
      "[[-1.  1.]\n",
      " [ 0.  2.]\n",
      " [ 0.  2.]\n",
      " [-1.  1.]]\n",
      "[[ 0.  2.]\n",
      " [ 0.  2.]\n",
      " [-1.  1.]\n",
      " [-1.  1.]]\n",
      "[[ 0.  2.]\n",
      " [-1.  1.]\n",
      " [ 0.  2.]\n",
      " [ 0.  2.]]\n",
      "[[-1.  1.]\n",
      " [ 0.  2.]\n",
      " [-1.  1.]\n",
      " [ 0.  2.]]\n",
      "least_squares_GD 3.922868509576244e+219 0.0\n",
      "[[ 0.  2.]\n",
      " [ 0.  2.]\n",
      " [-1.  1.]\n",
      " [ 0.  2.]]\n",
      "[[-1.  1.]\n",
      " [ 0.  2.]\n",
      " [ 0.  2.]\n",
      " [-1.  1.]]\n",
      "[[ 0.  2.]\n",
      " [ 0.  2.]\n",
      " [-1.  1.]\n",
      " [-1.  1.]]\n",
      "[[ 0.  2.]\n",
      " [-1.  1.]\n",
      " [ 0.  2.]\n",
      " [ 0.  2.]]\n",
      "[[-1.  1.]\n",
      " [ 0.  2.]\n",
      " [-1.  1.]\n",
      " [ 0.  2.]]\n",
      "least_squares_GD 6.926883843933646e+289 0.0\n",
      "[[ 0.  2.]\n",
      " [ 0.  2.]\n",
      " [-1.  1.]\n",
      " [ 0.  2.]]\n",
      "[[-1.  1.]\n",
      " [ 0.  2.]\n",
      " [ 0.  2.]\n",
      " [-1.  1.]]\n",
      "[[ 0.  2.]\n",
      " [ 0.  2.]\n",
      " [-1.  1.]\n",
      " [-1.  1.]]\n",
      "[[ 0.  2.]\n",
      " [-1.  1.]\n",
      " [ 0.  2.]\n",
      " [ 0.  2.]]\n",
      "[[-1.  1.]\n",
      " [ 0.  2.]\n",
      " [-1.  1.]\n",
      " [ 0.  2.]]\n",
      "least_squares_GD 9.006777216340695e+56 0.0\n",
      "[[ 0.  2.]\n",
      " [ 0.  2.]\n",
      " [-1.  1.]\n",
      " [ 0.  2.]]\n",
      "[[-1.  1.]\n",
      " [ 0.  2.]\n",
      " [ 0.  2.]\n",
      " [-1.  1.]]\n",
      "[[ 0.  2.]\n",
      " [ 0.  2.]\n",
      " [-1.  1.]\n",
      " [-1.  1.]]\n",
      "[[ 0.  2.]\n",
      " [-1.  1.]\n",
      " [ 0.  2.]\n",
      " [ 0.  2.]]\n",
      "[[-1.  1.]\n",
      " [ 0.  2.]\n",
      " [-1.  1.]\n",
      " [ 0.  2.]]\n",
      "least_squares_GD 4.660793001761605e+144 0.0\n",
      "[[ 0.  2.]\n",
      " [ 0.  2.]\n",
      " [-1.  1.]\n",
      " [ 0.  2.]]\n",
      "[[-1.  1.]\n",
      " [ 0.  2.]\n",
      " [ 0.  2.]\n",
      " [-1.  1.]]\n",
      "[[ 0.  2.]\n",
      " [ 0.  2.]\n",
      " [-1.  1.]\n",
      " [-1.  1.]]\n",
      "[[ 0.  2.]\n",
      " [-1.  1.]\n",
      " [ 0.  2.]\n",
      " [ 0.  2.]]\n",
      "[[-1.  1.]\n",
      " [ 0.  2.]\n",
      " [-1.  1.]\n",
      " [ 0.  2.]]\n",
      "least_squares_GD 3.922868509576244e+219 0.0\n",
      "[[ 0.  2.]\n",
      " [ 0.  2.]\n",
      " [-1.  1.]\n",
      " [ 0.  2.]]\n",
      "[[-1.  1.]\n",
      " [ 0.  2.]\n",
      " [ 0.  2.]\n",
      " [-1.  1.]]\n",
      "[[ 0.  2.]\n",
      " [ 0.  2.]\n",
      " [-1.  1.]\n",
      " [-1.  1.]]\n",
      "[[ 0.  2.]\n",
      " [-1.  1.]\n",
      " [ 0.  2.]\n",
      " [ 0.  2.]]\n",
      "[[-1.  1.]\n",
      " [ 0.  2.]\n",
      " [-1.  1.]\n",
      " [ 0.  2.]]\n",
      "least_squares_GD 6.926883843933646e+289 0.0\n",
      "Model: least_squares_GD \n",
      " Optimal accuracy: 0.0 \n",
      " Optimal lambda_: 1e-07 \n",
      " Optimal gamma: 1.0 \n",
      " \n"
     ]
    }
   ],
   "source": [
    "Hyperparameter_optimization(y, tx, k_fold, lambdas , gammas, initial_w =1, max_iters = 100, model = 'least_squares_GD')"
   ]
  },
  {
   "cell_type": "code",
   "execution_count": 49,
   "metadata": {},
   "outputs": [
    {
     "data": {
      "text/plain": [
       "1e-07"
      ]
     },
     "execution_count": 49,
     "metadata": {},
     "output_type": "execute_result"
    }
   ],
   "source": [
    "lambdas[b[0]]"
   ]
  },
  {
   "cell_type": "code",
   "execution_count": 51,
   "metadata": {},
   "outputs": [
    {
     "data": {
      "text/plain": [
       "7.742636826811278e-07"
      ]
     },
     "execution_count": 51,
     "metadata": {},
     "output_type": "execute_result"
    }
   ],
   "source": [
    "gammas[b[1]]"
   ]
  },
  {
   "cell_type": "code",
   "execution_count": 52,
   "metadata": {},
   "outputs": [
    {
     "data": {
      "text/plain": [
       "0.05272028893456371"
      ]
     },
     "execution_count": 52,
     "metadata": {},
     "output_type": "execute_result"
    }
   ],
   "source": [
    "a.min()"
   ]
  },
  {
   "cell_type": "code",
   "execution_count": null,
   "metadata": {},
   "outputs": [],
   "source": []
  }
 ],
 "metadata": {
  "kernelspec": {
   "display_name": "Python 3",
   "language": "python",
   "name": "python3"
  },
  "language_info": {
   "codemirror_mode": {
    "name": "ipython",
    "version": 3
   },
   "file_extension": ".py",
   "mimetype": "text/x-python",
   "name": "python",
   "nbconvert_exporter": "python",
   "pygments_lexer": "ipython3",
   "version": "3.7.4"
  }
 },
 "nbformat": 4,
 "nbformat_minor": 2
}
